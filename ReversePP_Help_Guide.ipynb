{
 "cells": [
  {
   "cell_type": "markdown",
   "id": "689c4bd5",
   "metadata": {},
   "source": [
    "## ReversePP Api Help Guide\n",
    "\n",
    "To be able to use the ReversePP API [here](https://dev.reversepp.com) you first need to sign up for a Pro subscription. A Pro subscription can be obtained by first signing up for [ReversePP](https://search.reversepp.com) and upgrading your account by clicking on \"Manage Subscription\". If you have signed up for a Pro account but have not recieved an API key then please email dan@reversepp.com"
   ]
  },
  {
   "cell_type": "code",
   "execution_count": null,
   "id": "d190cb0b",
   "metadata": {},
   "outputs": [],
   "source": [
    "# uncomment and run to install requests if you don't have the requests package installed\n",
    "# !pip install requests"
   ]
  },
  {
   "cell_type": "code",
   "execution_count": 4,
   "id": "3ba7c16b",
   "metadata": {},
   "outputs": [],
   "source": [
    "# import requests\n",
    "import requests"
   ]
  },
  {
   "cell_type": "code",
   "execution_count": 5,
   "id": "30def9de",
   "metadata": {},
   "outputs": [],
   "source": [
    "# enter your API key here\n",
    "\n",
    "api_key = \"YOUR API KEY\"\n"
   ]
  },
  {
   "cell_type": "markdown",
   "id": "8a91529d",
   "metadata": {},
   "source": [
    "## Applicant Multi Endpoint"
   ]
  },
  {
   "cell_type": "code",
   "execution_count": null,
   "id": "f9189005",
   "metadata": {},
   "outputs": [],
   "source": [
    "# enter the applicant you would like to search for below\n",
    "\n",
    "applicant = \"JOHN JOHNSON\"\n",
    "\n",
    "pload = {\"applicant\": applicant, \"api-key\": api_key}\n",
    "headers = {\"Content-Type\":\"application/json\", 'accept': 'application/json'}\n",
    "\n",
    "r = requests.post('https://dev.reversepp.com/applicant_multi', json=pload)\n",
    "r.json()"
   ]
  },
  {
   "cell_type": "markdown",
   "id": "b5906e31",
   "metadata": {},
   "source": [
    "## Applicant Single Endpoint"
   ]
  },
  {
   "cell_type": "code",
   "execution_count": null,
   "id": "5c7d4226",
   "metadata": {},
   "outputs": [],
   "source": [
    "# enter the applicant you would like to search for below\n",
    "\n",
    "applicant = \"JOHN JOHNSON\"\n",
    "\n",
    "pload = {\"applicant\": applicant, \"api-key\": api_key}\n",
    "headers = {\"Content-Type\":\"application/json\", 'accept': 'application/json'}\n",
    "\n",
    "r = requests.post('https://dev.reversepp.com/applicant_single', json=pload)\n",
    "r.json()"
   ]
  },
  {
   "cell_type": "markdown",
   "id": "d35ec724",
   "metadata": {},
   "source": [
    "## Partial Address Multi Endpoint"
   ]
  },
  {
   "cell_type": "code",
   "execution_count": null,
   "id": "7eecaf1b",
   "metadata": {},
   "outputs": [],
   "source": [
    "# enter the partial address you would like to search for below\n",
    "\n",
    "p_address = \"STATION ROAD\"\n",
    "\n",
    "pload = {\"p_address\": p_address, \"api-key\": api_key}\n",
    "headers = {\"Content-Type\":\"application/json\", 'accept': 'application/json'}\n",
    "\n",
    "r = requests.post('https://dev.reversepp.com/partial_address_multi', json=pload)\n",
    "r.json()"
   ]
  },
  {
   "cell_type": "markdown",
   "id": "c4034e1d",
   "metadata": {},
   "source": [
    "## Partial Address Single Endpoint"
   ]
  },
  {
   "cell_type": "code",
   "execution_count": null,
   "id": "c98819da",
   "metadata": {},
   "outputs": [],
   "source": [
    "# enter the partial address you would like to search for below\n",
    "\n",
    "p_address = \"STATION ROAD\"\n",
    "\n",
    "pload = {\"p_address\": p_address, \"api-key\": api_key}\n",
    "headers = {\"Content-Type\":\"application/json\", 'accept': 'application/json'}\n",
    "\n",
    "r = requests.post('https://dev.reversepp.com/partial_address_single', json=pload)\n",
    "r.json()"
   ]
  },
  {
   "cell_type": "markdown",
   "id": "a1ed9506",
   "metadata": {},
   "source": [
    "## Postcode Multi Endpoint"
   ]
  },
  {
   "cell_type": "code",
   "execution_count": null,
   "id": "2c9f5a0a",
   "metadata": {},
   "outputs": [],
   "source": [
    "# enter the postcode you would like to search for below\n",
    "\n",
    "postcode = \"SW4\"\n",
    "\n",
    "pload = {\"postcode\": postcode, \"api-key\": api_key}\n",
    "headers = {\"Content-Type\":\"application/json\", 'accept': 'application/json'}\n",
    "\n",
    "r = requests.post('https://dev.reversepp.com/postcode_multi', json=pload)\n",
    "r.json()"
   ]
  },
  {
   "cell_type": "markdown",
   "id": "627d1f5b",
   "metadata": {},
   "source": [
    "## Postcode Single Endpoint"
   ]
  },
  {
   "cell_type": "code",
   "execution_count": null,
   "id": "6565b675",
   "metadata": {},
   "outputs": [],
   "source": [
    "# enter the postcode you would like to search for below\n",
    "\n",
    "postcode = \"SW4\"\n",
    "\n",
    "pload = {\"postcode\": postcode, \"api-key\": api_key}\n",
    "headers = {\"Content-Type\":\"application/json\", 'accept': 'application/json'}\n",
    "\n",
    "r = requests.post('https://dev.reversepp.com/postcode_single', json=pload)\n",
    "r.json()"
   ]
  },
  {
   "cell_type": "markdown",
   "id": "79a68f7b",
   "metadata": {},
   "source": [
    "## Proposal Endpoint"
   ]
  },
  {
   "cell_type": "code",
   "execution_count": null,
   "id": "6c84c623",
   "metadata": {},
   "outputs": [],
   "source": [
    "# enter the keyword you would like to search for below\n",
    "\n",
    "keyword = \"helicopter\"\n",
    "\n",
    "pload = {\"key-word\": keyword, \"api-key\": api_key}\n",
    "headers = {\"Content-Type\":\"application/json\", 'accept': 'application/json'}\n",
    "\n",
    "r = requests.post('https://dev.reversepp.com/proposal', json=pload)\n",
    "r.json()"
   ]
  },
  {
   "cell_type": "code",
   "execution_count": null,
   "id": "79861371",
   "metadata": {},
   "outputs": [],
   "source": []
  }
 ],
 "metadata": {
  "kernelspec": {
   "display_name": "Python 3 (ipykernel)",
   "language": "python",
   "name": "python3"
  },
  "language_info": {
   "codemirror_mode": {
    "name": "ipython",
    "version": 3
   },
   "file_extension": ".py",
   "mimetype": "text/x-python",
   "name": "python",
   "nbconvert_exporter": "python",
   "pygments_lexer": "ipython3",
   "version": "3.9.7"
  }
 },
 "nbformat": 4,
 "nbformat_minor": 5
}
